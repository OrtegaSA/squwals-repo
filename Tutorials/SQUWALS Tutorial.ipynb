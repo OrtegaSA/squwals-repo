{
 "cells": [
  {
   "cell_type": "markdown",
   "id": "7d666bd0",
   "metadata": {},
   "source": [
    "# SQUWALS Tutorial\n",
    "\n",
    "In this notebook we will show a tutorial of how to use SQUWALS [[1]](https://arxiv.org/abs/2307.14314), our simulator of Szegedy's quantum walks [[2]](https://ieeexplore.ieee.org/document/1366222).\n",
    "\n",
    "This simulator uses an algorithm that need memory resources scaling as $\\mathcal{O}(N^2)$.\n",
    "\n",
    "It is recommended to read section II from [[1]](https://arxiv.org/abs/2307.14314) for terminology."
   ]
  },
  {
   "cell_type": "markdown",
   "id": "7ce92576",
   "metadata": {},
   "source": [
    "## Table of Contents\n",
    "\n",
    "- [Packages](#0)\n",
    "- [1 - Column Stochastic Matrix](#1)\n",
    "- [2 - Initial State](#2)\n",
    "- [3 - Unitary Operators](#3)\n",
    "    - [3.1 - Reflection](#3-1)\n",
    "    - [3.2 - Swap](#3-2)\n",
    "    - [3.3 - Oracle](#3-3)\n",
    "    - [3.4 - Unitary Operator](#3-4)\n",
    "    - [3.5 - Default Unitary Operators](#3-5)\n",
    "- [4 - Measurement](#4)\n",
    "- [5 - Szegedy Quantum Walk Simulator](#5)\n",
    "- [6 - Mixed State Simulation](#6)\n",
    "- [7 - Example: Szegedy's Quantum Walk with Queries](#7)\n",
    "- [8 - References](#8)"
   ]
  },
  {
   "cell_type": "markdown",
   "id": "cf862568",
   "metadata": {},
   "source": [
    "<a name='0'></a>\n",
    "## Packages\n",
    "First we import the libraries that we need.First we import the libraries that we need, including our simulator."
   ]
  },
  {
   "cell_type": "code",
   "execution_count": 1,
   "id": "76ad89c6",
   "metadata": {},
   "outputs": [],
   "source": [
    "import numpy as np\n",
    "import squwals as sw\n",
    "import matplotlib.pyplot as plt"
   ]
  },
  {
   "cell_type": "markdown",
   "id": "768c5c77",
   "metadata": {},
   "source": [
    "<a name='1'></a>\n",
    "## 1 - Column Stochastic Matrix\n",
    "First, we need the transition matrix of a classical walk $G$, whose elements $G_{ji}$ are the probabilities of the walker jumping from node $i$ to node $j$. This is a $N\\times N$ column-stochastic matrix, so that the elements of each column add up to one. Thus:\n",
    "\n",
    "$$\\sum_{j=0}^{N-1} G_{ji} = 1 \\ \\forall \\ i.$$\n",
    "\n",
    "**Note: Depending on the literature, the transition matrix is defined as row-stochastic, so that it corresponds to our $G^T$. For this simulator we ALWAYS need a column-stochastic matrix.**\n",
    "\n",
    "We will create a random column-stochastic matrix for a graph with $N=4$ nodes."
   ]
  },
  {
   "cell_type": "code",
   "execution_count": 2,
   "id": "df743e67",
   "metadata": {},
   "outputs": [],
   "source": [
    "# Define the number of nodes of the graph.\n",
    "N = 4\n",
    "\n",
    "# Create a random matrix and noramlize the columns so that their elements add up to one.\n",
    "rng = np.random.default_rng(seed=32)\n",
    "G = rng.random([N,N])\n",
    "G = G / sum(G)"
   ]
  },
  {
   "cell_type": "markdown",
   "id": "22cb16ca",
   "metadata": {},
   "source": [
    "Let's check that the sums of the elements along the first dimension are equal to 1."
   ]
  },
  {
   "cell_type": "code",
   "execution_count": 3,
   "id": "d57733b1",
   "metadata": {},
   "outputs": [
    {
     "data": {
      "text/plain": [
       "array([1., 1., 1., 1.])"
      ]
     },
     "execution_count": 3,
     "metadata": {},
     "output_type": "execute_result"
    }
   ],
   "source": [
    "np.sum(G,axis=0)"
   ]
  },
  {
   "cell_type": "markdown",
   "id": "3a7f0006",
   "metadata": {},
   "source": [
    "<a name='2'></a>\n",
    "## 2 - Initial State\n",
    "\n",
    "The Hilbert space is the span of all the vectors representing the $N \\times N$ directed edges of the duplicated graph, i.e., $\\mathcal{H} = \\text{span}\\lbrace\\left|i\\right>_1\\left|j\\right>_2,\\ i,j = 0,1,...,N-1\\rbrace = \\mathbb{C}^N \\otimes \\mathbb{C}^N$, where the states with indexes $1$ and $2$ refer to the nodes on two copies of the original graph. Thus, the states are defined over two quantum registers. Therefore, any quantum state is represented by a $N^2$-dimensional vector.\n",
    "\n",
    "We need an initial quantum state over which to perform the quantum evolution. An usual initial state is defined as\n",
    "\n",
    "\\begin{equation}\n",
    "\t\\left|\\Psi^{(0)}\\right> = \\frac{1}{\\sqrt{N}}\\sum_{i=0}^{N-1}\\left|\\psi_i\\right>,\n",
    "\\end{equation}\n",
    "\n",
    "where the states\n",
    "\n",
    "\\begin{equation}\\label{psi_i}\n",
    "\t\\left|\\psi_i\\right> := \\left|i\\right>_1 \\otimes \\sum_{k=0}^{N-1} \\sqrt{G_{ki}}\\left|k\\right>_2\n",
    "\\end{equation}\n",
    "are created using the transition matrix $G$.\n",
    "\n",
    "We provide the function `create_initial_state`, which takes as unique argument the transition matrix, and returns the state $\\left|\\Psi^{(0)}\\right>$ as a 1D numpy array."
   ]
  },
  {
   "cell_type": "code",
   "execution_count": 4,
   "id": "f4d41a78",
   "metadata": {},
   "outputs": [
    {
     "data": {
      "text/plain": [
       "array([0.1326066 , 0.27449354, 0.30181543, 0.25685839, 0.22144811,\n",
       "       0.28865017, 0.19848592, 0.27972335, 0.21344498, 0.34175299,\n",
       "       0.19571313, 0.22213172, 0.19664959, 0.28352618, 0.2548929 ,\n",
       "       0.25684909])"
      ]
     },
     "execution_count": 4,
     "metadata": {},
     "output_type": "execute_result"
    }
   ],
   "source": [
    "initial_state = sw.create_initial_state(G)\n",
    "initial_state"
   ]
  },
  {
   "cell_type": "markdown",
   "id": "986fc71a",
   "metadata": {},
   "source": [
    "<a name='3'></a>\n",
    "## 3 - Unitary operators"
   ]
  },
  {
   "cell_type": "markdown",
   "id": "253b6c60",
   "metadata": {},
   "source": [
    "The quantum walk operator $U$ is usually defined as\n",
    "\n",
    "\\begin{equation}\\label{U}\n",
    "\tU := SR,\n",
    "\\end{equation}\n",
    "\n",
    "where $R$ is a reflection over the subspace generated by the $\\left|\\psi_i\\right>$ states,\n",
    "\n",
    "\\begin{equation}\\label{reflection}\n",
    "R = 2\\Pi - \\mathbb{1}, \\ \\ \\ \\ \\ \\ \\Pi := \\sum_{i=0}^{N-1} \\left|\\psi_i\\right>\\left<\\psi_i\\right|,\n",
    "\\end{equation}\n",
    "\n",
    "and $S$ is the swap operator between the two quantum registers, i.e.,\n",
    "\n",
    "\\begin{equation}\\label{swap}\n",
    "\tS := \\sum_{i,j=0}^{N-1} \\left|i,j\\right>\\left<j,i\\right|.\n",
    "\\end{equation}\n",
    "\n",
    "However, there exist other formulations, as the double Szegedy operator $U = SRSR$.\n",
    "\n",
    "**Note: The original formulation of the unitary is as two reflections, $U = R_BR_A$, where $R_A = R$ and $R_B = SRS$. Thus, it corresponds to the double Szegedy operator in our notation.**\n",
    "\n",
    "Finally, the unitary operator can be modified introducing oracles in the context of quantum search. Let us define the operator $Q$ as follows:\n",
    "\n",
    "\\begin{equation}\\label{oracle}\n",
    "Q = \\mathbb{1}_N - 2\\sum_{k \\in \\mathcal{M}} \\left|k\\right>\\left<k\\right|,\n",
    "\\end{equation}\n",
    "\n",
    "which inverts the sign of the vectors $\\left|k\\right>$ given a set $\\mathcal{M}$ of nodes to mark. In order to mark the nodes in the first register, we use the oracle $Q_1$ defined as:\n",
    "\n",
    "\\begin{equation}\n",
    "Q_1 = Q \\otimes \\mathbb{1}_N,\n",
    "\\end{equation}\n",
    "\n",
    "whereas to mark them in the second register, we use $Q_2$:\n",
    "\n",
    "\\begin{equation}\n",
    "Q_2 = \\mathbb{1}_N \\otimes Q.\n",
    "\\end{equation}\n",
    "\n",
    "Any Szegedy-like quantum operator can be expressed in terms of the reflection $R$, the swap $S$ and the oracles $Q_1$ and $Q_2$. Thus, we will see how to create these operators, and use them to build the unitary quantum evolution $U$."
   ]
  },
  {
   "cell_type": "markdown",
   "id": "9c8c5bf1",
   "metadata": {},
   "source": [
    "<a name='3-1'></a>\n",
    "### 3.1 - Reflection"
   ]
  },
  {
   "cell_type": "markdown",
   "id": "642c99f4",
   "metadata": {},
   "source": [
    "We provide the `Reflection` class. To instantiate a reflection object we need to pass as argument the transition matrix $G$."
   ]
  },
  {
   "cell_type": "code",
   "execution_count": 5,
   "id": "4b29e8f9",
   "metadata": {
    "scrolled": true
   },
   "outputs": [],
   "source": [
    "# Create a reflection object using G.\n",
    "R = sw.Reflection(transition_matrix=G)"
   ]
  },
  {
   "cell_type": "markdown",
   "id": "cd5b5adf",
   "metadata": {},
   "source": [
    "We can use the method `info()` to obtain information about the operator."
   ]
  },
  {
   "cell_type": "code",
   "execution_count": 6,
   "id": "adad5ec6",
   "metadata": {},
   "outputs": [
    {
     "name": "stdout",
     "output_type": "stream",
     "text": [
      "Reflection\n"
     ]
    }
   ],
   "source": [
    "R.info()"
   ]
  },
  {
   "cell_type": "markdown",
   "id": "b6fcebdd",
   "metadata": {},
   "source": [
    "In this case the information is trivial. However, we can create a more complicated reflection operator.\n",
    "\n",
    "We can add a phase for arbitrary phase rotation, so that the operator becomes:\n",
    "\n",
    "\\begin{equation}\n",
    "R(\\theta) = (1-e^{i\\theta})\\Pi - \\mathbb{1}.\n",
    "\\end{equation}\n",
    "\n",
    "The angle $\\theta$ is passed by the optional argument `apr_phase`. Let's use $\\theta = \\pi/2$."
   ]
  },
  {
   "cell_type": "code",
   "execution_count": 7,
   "id": "07f6dc33",
   "metadata": {
    "scrolled": true
   },
   "outputs": [
    {
     "name": "stdout",
     "output_type": "stream",
     "text": [
      "Reflection: apr_phase = 1.57\n"
     ]
    }
   ],
   "source": [
    "R_apr = sw.Reflection(G,apr_phase=np.pi/2)\n",
    "R_apr.info()"
   ]
  },
  {
   "cell_type": "markdown",
   "id": "96de8934",
   "metadata": {},
   "source": [
    "We can also use the extended Szegedy model, where the states $\\left|\\psi_i\\right>$ are modified as\n",
    "\n",
    "\\begin{equation}\\label{psi_i_phases}\n",
    "\t\\left|\\psi_i\\right> := \\sum_{k=0}^{N-1} e^{\\theta_{ik}}\\sqrt{G_{ki}}\\left|i\\right>_1\\left|k\\right>_2,\n",
    "\\end{equation}\n",
    "\n",
    "We need a matrix with all the angles $\\theta_{ij}$, and pass it by the argument `extended_phases`."
   ]
  },
  {
   "cell_type": "code",
   "execution_count": 8,
   "id": "8c6b8825",
   "metadata": {
    "scrolled": true
   },
   "outputs": [
    {
     "name": "stdout",
     "output_type": "stream",
     "text": [
      "Reflection (extended model)\n"
     ]
    }
   ],
   "source": [
    "theta_matrix = np.random.random([N,N])\n",
    "R_extended = sw.Reflection(G,extended_phases=theta_matrix)\n",
    "R_extended.info()"
   ]
  },
  {
   "cell_type": "markdown",
   "id": "272c508f",
   "metadata": {},
   "source": [
    "In this case we do not show explicitly the phases due to the large number of them. However, they can be retrieved with the attribute `extended_phases`."
   ]
  },
  {
   "cell_type": "code",
   "execution_count": 9,
   "id": "d2aa021d",
   "metadata": {},
   "outputs": [
    {
     "data": {
      "text/plain": [
       "array([[0.78210202, 0.34268884, 0.21016984, 0.88758092],\n",
       "       [0.02152384, 0.16892559, 0.75641297, 0.25819821],\n",
       "       [0.66770958, 0.36598305, 0.68394238, 0.91726589],\n",
       "       [0.7036946 , 0.61699863, 0.38133571, 0.62881597]])"
      ]
     },
     "execution_count": 9,
     "metadata": {},
     "output_type": "execute_result"
    }
   ],
   "source": [
    "theta_matrix"
   ]
  },
  {
   "cell_type": "code",
   "execution_count": 10,
   "id": "c0b7dc78",
   "metadata": {},
   "outputs": [
    {
     "data": {
      "text/plain": [
       "array([[0.78210202, 0.34268884, 0.21016984, 0.88758092],\n",
       "       [0.02152384, 0.16892559, 0.75641297, 0.25819821],\n",
       "       [0.66770958, 0.36598305, 0.68394238, 0.91726589],\n",
       "       [0.7036946 , 0.61699863, 0.38133571, 0.62881597]])"
      ]
     },
     "execution_count": 10,
     "metadata": {},
     "output_type": "execute_result"
    }
   ],
   "source": [
    "R_extended.extended_phases"
   ]
  },
  {
   "cell_type": "markdown",
   "id": "06236bbe",
   "metadata": {},
   "source": [
    "Finally, we can give a custom name to the operator with the argument `name`"
   ]
  },
  {
   "cell_type": "code",
   "execution_count": 11,
   "id": "2365edf2",
   "metadata": {},
   "outputs": [
    {
     "name": "stdout",
     "output_type": "stream",
     "text": [
      "Reflection custom reflection (extended model): apr_phase = 1.57\n"
     ]
    }
   ],
   "source": [
    "R_all = sw.Reflection(G,apr_phase=np.pi/2,extended_phases=theta_matrix,name='custom reflection')\n",
    "R_all.info()"
   ]
  },
  {
   "cell_type": "markdown",
   "id": "3564104b",
   "metadata": {},
   "source": [
    "<a name='3-2'></a>\n",
    "### 3.2 - Swap"
   ]
  },
  {
   "cell_type": "markdown",
   "id": "b7e6d33f",
   "metadata": {},
   "source": [
    "We provide the `Swap` class. No arguments are needed."
   ]
  },
  {
   "cell_type": "code",
   "execution_count": 12,
   "id": "3b77f503",
   "metadata": {},
   "outputs": [
    {
     "name": "stdout",
     "output_type": "stream",
     "text": [
      "Swap\n"
     ]
    }
   ],
   "source": [
    "S = sw.Swap()\n",
    "S.info()"
   ]
  },
  {
   "cell_type": "markdown",
   "id": "93f4604d",
   "metadata": {},
   "source": [
    "<a name='3-3'></a>\n",
    "### 3.3 - Oracle"
   ]
  },
  {
   "cell_type": "markdown",
   "id": "4b45a2d8",
   "metadata": {},
   "source": [
    "We provide the `Oracle` class. The arguments are the following:\n",
    "\n",
    "-    register: An intenger indicating the register for marking: 1 or 2.\n",
    "-    marked_nodes: A list with the nodes to mark.\n",
    "-    phase: Angle for the arbitrary phase rotation (optional).\n",
    "-    name: Custom name for the oracle operator.\n",
    "\n",
    "Let's create an oracle that marks nodes 0 and 2 in the first register."
   ]
  },
  {
   "cell_type": "code",
   "execution_count": 13,
   "id": "e26c93bf",
   "metadata": {},
   "outputs": [
    {
     "name": "stdout",
     "output_type": "stream",
     "text": [
      "Oracle: Register 1: nodes [0, 2]\n"
     ]
    }
   ],
   "source": [
    "Q_1 = sw.Oracle(1,marked_nodes=[0,2])\n",
    "Q_1.info()"
   ]
  },
  {
   "cell_type": "markdown",
   "id": "5b82cdf5",
   "metadata": {},
   "source": [
    "The list of marked nodes can be retrieved with the attribute `marked_nodes`."
   ]
  },
  {
   "cell_type": "code",
   "execution_count": 14,
   "id": "8540b9ed",
   "metadata": {},
   "outputs": [
    {
     "data": {
      "text/plain": [
       "[0, 2]"
      ]
     },
     "execution_count": 14,
     "metadata": {},
     "output_type": "execute_result"
    }
   ],
   "source": [
    "Q_1.marked_nodes"
   ]
  },
  {
   "cell_type": "markdown",
   "id": "80b46486",
   "metadata": {},
   "source": [
    "Now let's mark in the second register and add an arbitrary phase rotation. In this case the operator $Q$ becomes\n",
    "\n",
    "\\begin{equation}\\label{oracle_phase}\n",
    "\tQ(\\theta) = \\mathbb{1}_N - (1-e^{i\\theta})\\sum_{k \\in M} \\left|k\\right>\\left<k\\right|.\n",
    "\\end{equation}"
   ]
  },
  {
   "cell_type": "code",
   "execution_count": 15,
   "id": "1f9262ea",
   "metadata": {},
   "outputs": [
    {
     "name": "stdout",
     "output_type": "stream",
     "text": [
      "Oracle custom: Register 2: nodes [0, 2], phase = 0.30\n"
     ]
    }
   ],
   "source": [
    "Q_custom = sw.Oracle(2,marked_nodes=[0,2],phase=0.3,name='custom')\n",
    "Q_custom.info()"
   ]
  },
  {
   "cell_type": "markdown",
   "id": "464f381f",
   "metadata": {},
   "source": [
    "<a name='3-4'></a>\n",
    "### 3.4 - Unitary Operator"
   ]
  },
  {
   "cell_type": "markdown",
   "id": "71f9033e",
   "metadata": {},
   "source": [
    "Now that we have seen how to create the building blocks, we can join them into an unitary operator $U$. Let's create the operator\n",
    "\n",
    "$$U = SRSRQ_1.$$\n",
    "\n",
    "Note that the order of action of the operators is read from right to left. Thus, the first operator is the oracle $Q_1$.\n",
    "\n",
    "We can create an unitary object with the `Unitary` class, and use the `append` method to introduce the building blocks."
   ]
  },
  {
   "cell_type": "code",
   "execution_count": 16,
   "id": "3d12ce09",
   "metadata": {},
   "outputs": [],
   "source": [
    "U = sw.Unitary()\n",
    "\n",
    "# First we add the oracle.\n",
    "U.append(Q_1)\n",
    "\n",
    "# Secondly the reflection.\n",
    "U.append(R)\n",
    "\n",
    "# And so on\n",
    "U.append(S)\n",
    "U.append(R)\n",
    "U.append(S)"
   ]
  },
  {
   "cell_type": "markdown",
   "id": "68a96847",
   "metadata": {},
   "source": [
    "We can use the `info()` method to see the information of the unitary operator."
   ]
  },
  {
   "cell_type": "code",
   "execution_count": 17,
   "id": "674c40d8",
   "metadata": {},
   "outputs": [
    {
     "name": "stdout",
     "output_type": "stream",
     "text": [
      "Custom unitary:\n",
      " 1 - Oracle: Register 1: nodes [0, 2]\n",
      " 2 - Reflection\n",
      " 3 - Swap\n",
      " 4 - Reflection\n",
      " 5 - Swap\n"
     ]
    }
   ],
   "source": [
    "U.info()"
   ]
  },
  {
   "cell_type": "markdown",
   "id": "e73a657e",
   "metadata": {},
   "source": [
    "Moreover, we can print the operator to obtain its algebraic representation."
   ]
  },
  {
   "cell_type": "code",
   "execution_count": 18,
   "id": "cca4a26f",
   "metadata": {},
   "outputs": [
    {
     "name": "stdout",
     "output_type": "stream",
     "text": [
      "SRSRQ₁\n"
     ]
    }
   ],
   "source": [
    "print(U)"
   ]
  },
  {
   "cell_type": "markdown",
   "id": "2ad3068f",
   "metadata": {},
   "source": [
    "Another form of initializing the unitary is passing a list with the operators. The first operator of the list is the first one acting."
   ]
  },
  {
   "cell_type": "code",
   "execution_count": 19,
   "id": "829526d4",
   "metadata": {
    "scrolled": true
   },
   "outputs": [
    {
     "name": "stdout",
     "output_type": "stream",
     "text": [
      "SRSRQ₁\n",
      "Custom unitary:\n",
      " 1 - Oracle: Register 1: nodes [0, 2]\n",
      " 2 - Reflection\n",
      " 3 - Swap\n",
      " 4 - Reflection\n",
      " 5 - Swap\n"
     ]
    }
   ],
   "source": [
    "U = sw.Unitary(operators=[Q_1,R,S,R,S])\n",
    "print(U)\n",
    "U.info()"
   ]
  },
  {
   "cell_type": "markdown",
   "id": "53273599",
   "metadata": {},
   "source": [
    "Finally, other form of constructing the unitary operator is multiplying the different operators in an algebraic sense, using `*`."
   ]
  },
  {
   "cell_type": "code",
   "execution_count": 20,
   "id": "c983f315",
   "metadata": {},
   "outputs": [
    {
     "name": "stdout",
     "output_type": "stream",
     "text": [
      "SRSRQ₁\n",
      "Custom unitary:\n",
      " 1 - Oracle: Register 1: nodes [0, 2]\n",
      " 2 - Reflection\n",
      " 3 - Swap\n",
      " 4 - Reflection\n",
      " 5 - Swap\n"
     ]
    }
   ],
   "source": [
    "U = S * R * S * R * Q_1\n",
    "print(U)\n",
    "U.info()"
   ]
  },
  {
   "cell_type": "markdown",
   "id": "2005b009",
   "metadata": {},
   "source": [
    "We can give it a custom name with the argument `name` when it is built with the `Unitary` class."
   ]
  },
  {
   "cell_type": "code",
   "execution_count": 21,
   "id": "4945e02c",
   "metadata": {},
   "outputs": [
    {
     "name": "stdout",
     "output_type": "stream",
     "text": [
      "SRSRQ₁\n",
      "Custom unitary: custom\n",
      " 1 - Oracle: Register 1: nodes [0, 2]\n",
      " 2 - Reflection\n",
      " 3 - Swap\n",
      " 4 - Reflection\n",
      " 5 - Swap\n"
     ]
    }
   ],
   "source": [
    "U = sw.Unitary(operators=[Q_1,R,S,R,S],name='custom')\n",
    "print(U)\n",
    "U.info()"
   ]
  },
  {
   "cell_type": "markdown",
   "id": "11470429",
   "metadata": {},
   "source": [
    "The unitary operators can also be multiplied in an algebraic sense, using the operator `*`."
   ]
  },
  {
   "cell_type": "code",
   "execution_count": 22,
   "id": "b3a01d61",
   "metadata": {},
   "outputs": [
    {
     "name": "stdout",
     "output_type": "stream",
     "text": [
      "SQ₂SSSR\n",
      "Custom unitary:\n",
      " 1 - Reflection\n",
      " 2 - Swap\n",
      " 3 - Swap\n",
      " 4 - Swap\n",
      " 5 - Oracle custom: Register 2: nodes [0, 2], phase = 0.30\n",
      " 6 - Swap\n"
     ]
    }
   ],
   "source": [
    "U_2 = sw.Unitary([R,S,S,S,Q_custom,S])\n",
    "print(U_2)\n",
    "U_2.info()"
   ]
  },
  {
   "cell_type": "code",
   "execution_count": 23,
   "id": "f023eaf2",
   "metadata": {
    "scrolled": true
   },
   "outputs": [
    {
     "name": "stdout",
     "output_type": "stream",
     "text": [
      "SRSRQ₁SQ₂SSSR\n",
      "Custom unitary:\n",
      " 1 - Reflection\n",
      " 2 - Swap\n",
      " 3 - Swap\n",
      " 4 - Swap\n",
      " 5 - Oracle custom: Register 2: nodes [0, 2], phase = 0.30\n",
      " 6 - Swap\n",
      " 7 - Oracle: Register 1: nodes [0, 2]\n",
      " 8 - Reflection\n",
      " 9 - Swap\n",
      " 10 - Reflection\n",
      " 11 - Swap\n"
     ]
    }
   ],
   "source": [
    "U_product = U * U_2\n",
    "print(U_product)\n",
    "U_product.info()"
   ]
  },
  {
   "cell_type": "markdown",
   "id": "911bd8f8",
   "metadata": {},
   "source": [
    "Since `U_2` is on the right, its operators are the first of the new list."
   ]
  },
  {
   "cell_type": "markdown",
   "id": "6067762d",
   "metadata": {},
   "source": [
    "Finally, we can use the method `operate` passing a quantum state, returning the action of the unitary over it. The initial vector can be a 1D numpy array."
   ]
  },
  {
   "cell_type": "code",
   "execution_count": 24,
   "id": "967dcd14",
   "metadata": {},
   "outputs": [
    {
     "data": {
      "text/plain": [
       "array([ 0.16368075,  0.33474263,  0.33891787,  0.31687499, -0.15712512,\n",
       "       -0.21011751, -0.13908013, -0.19319239,  0.28417041,  0.39575479,\n",
       "        0.22973329,  0.29992392, -0.13645909, -0.20742222, -0.21628048,\n",
       "       -0.17845987])"
      ]
     },
     "execution_count": 24,
     "metadata": {},
     "output_type": "execute_result"
    }
   ],
   "source": [
    "final_state = U.operate(initial_state)\n",
    "final_state"
   ]
  },
  {
   "cell_type": "markdown",
   "id": "2c400a1c",
   "metadata": {},
   "source": [
    "However, we can concatenate different initial states along a second dimension. Let's create a batch with two quantum states."
   ]
  },
  {
   "cell_type": "code",
   "execution_count": 25,
   "id": "d07b1063",
   "metadata": {
    "scrolled": true
   },
   "outputs": [
    {
     "data": {
      "text/plain": [
       "array([[0.1326066 , 0.1326066 ],\n",
       "       [0.27449354, 0.27449354],\n",
       "       [0.30181543, 0.30181543],\n",
       "       [0.25685839, 0.25685839],\n",
       "       [0.22144811, 0.22144811],\n",
       "       [0.28865017, 0.28865017],\n",
       "       [0.19848592, 0.19848592],\n",
       "       [0.27972335, 0.27972335],\n",
       "       [0.21344498, 0.21344498],\n",
       "       [0.34175299, 0.34175299],\n",
       "       [0.19571313, 0.19571313],\n",
       "       [0.22213172, 0.22213172],\n",
       "       [0.19664959, 0.19664959],\n",
       "       [0.28352618, 0.28352618],\n",
       "       [0.2548929 , 0.2548929 ],\n",
       "       [0.25684909, 0.25684909]])"
      ]
     },
     "execution_count": 25,
     "metadata": {},
     "output_type": "execute_result"
    }
   ],
   "source": [
    "initial_batch = np.c_[initial_state,initial_state]\n",
    "initial_batch"
   ]
  },
  {
   "cell_type": "markdown",
   "id": "d1498ea3",
   "metadata": {},
   "source": [
    "When we apply the unitary operator over a batch of states, we obtain a batch with the same dimensions."
   ]
  },
  {
   "cell_type": "code",
   "execution_count": 26,
   "id": "bfa8b093",
   "metadata": {
    "scrolled": true
   },
   "outputs": [
    {
     "data": {
      "text/plain": [
       "array([[ 0.16368075,  0.16368075],\n",
       "       [ 0.33474263,  0.33474263],\n",
       "       [ 0.33891787,  0.33891787],\n",
       "       [ 0.31687499,  0.31687499],\n",
       "       [-0.15712512, -0.15712512],\n",
       "       [-0.21011751, -0.21011751],\n",
       "       [-0.13908013, -0.13908013],\n",
       "       [-0.19319239, -0.19319239],\n",
       "       [ 0.28417041,  0.28417041],\n",
       "       [ 0.39575479,  0.39575479],\n",
       "       [ 0.22973329,  0.22973329],\n",
       "       [ 0.29992392,  0.29992392],\n",
       "       [-0.13645909, -0.13645909],\n",
       "       [-0.20742222, -0.20742222],\n",
       "       [-0.21628048, -0.21628048],\n",
       "       [-0.17845987, -0.17845987]])"
      ]
     },
     "execution_count": 26,
     "metadata": {},
     "output_type": "execute_result"
    }
   ],
   "source": [
    "final_batch = U.operate(initial_batch)\n",
    "final_batch"
   ]
  },
  {
   "cell_type": "markdown",
   "id": "b468de45",
   "metadata": {},
   "source": [
    "<a name='3-5'></a>\n",
    "### 3.5 - Default Unitary Operators\n",
    "\n",
    "We have seen how to construct any unitary operator. However, to ease the coding, we provide classes for the two most common unitary operators."
   ]
  },
  {
   "cell_type": "markdown",
   "id": "30394b92",
   "metadata": {},
   "source": [
    "Te first one is the single Szegedy unitary\n",
    "\n",
    "$$U = SR.$$\n",
    "\n",
    "We can create it with the class `SingleUnitary` and the transition matrix $G$. The arguments are the following:\n",
    "\n",
    "- transition_matrix: Classical column-stochastic transition matrix.\n",
    "- apr_phase: Phase for the arbitrary phase rotation (optional).\n",
    "- extended_phases: Matrix with the phases of the extended Szegedy model (optional)."
   ]
  },
  {
   "cell_type": "code",
   "execution_count": 27,
   "id": "6b275857",
   "metadata": {},
   "outputs": [
    {
     "name": "stdout",
     "output_type": "stream",
     "text": [
      "SR\n",
      "Single Szegedy unitary:\n",
      " 1 - Reflection\n",
      " 2 - Swap\n"
     ]
    }
   ],
   "source": [
    "U_single = sw.SingleUnitary(G)\n",
    "print(U_single)\n",
    "U_single.info()"
   ]
  },
  {
   "cell_type": "markdown",
   "id": "89e6eedb",
   "metadata": {},
   "source": [
    "The other is the double Szegedy operator\n",
    "\n",
    "$$U = R_BR_A = SRSR.$$\n",
    "\n",
    "In this case we use the class `DoubleUnitary`. The arguments are the following:\n",
    "\n",
    "- transition_matrix: Classical column-stochastic transition matrix.\n",
    "- apr_phase_1: Phase for the arbitrary phase rotation of the first reflection (optional).\n",
    "- apr_phase_2: Phase for the arbitrary phase rotation of the second reflection (optional).\n",
    "- extended_phases_1: Matrix with the phases of the extended Szegedy model of the first reflection (optional).\n",
    "- extended_phases_2: Matrix with the phases of the extended Szegedy model of the second reflection (optional)."
   ]
  },
  {
   "cell_type": "code",
   "execution_count": 28,
   "id": "0db04a53",
   "metadata": {
    "scrolled": true
   },
   "outputs": [
    {
     "name": "stdout",
     "output_type": "stream",
     "text": [
      "SRSR\n",
      "Double Szegedy unitary:\n",
      " 1 - Reflection\n",
      " 2 - Swap\n",
      " 3 - Reflection\n",
      " 4 - Swap\n"
     ]
    }
   ],
   "source": [
    "U_double = sw.DoubleUnitary(G)\n",
    "print(U_double)\n",
    "U_double.info()"
   ]
  },
  {
   "cell_type": "markdown",
   "id": "6c65cf04",
   "metadata": {},
   "source": [
    "<a name='4'></a>\n",
    "## 4 - Measurement"
   ]
  },
  {
   "cell_type": "markdown",
   "id": "3f8dc88a",
   "metadata": {},
   "source": [
    "In order to obtain a probability distribution for the position of the walker, we can use the `Measurement` class.\n",
    "\n",
    "The only argument for initializing this class is the register used to measure the position. Let's create an object for the second register."
   ]
  },
  {
   "cell_type": "code",
   "execution_count": 29,
   "id": "32307928",
   "metadata": {},
   "outputs": [],
   "source": [
    "measurement_2 = sw.Measurement(2)"
   ]
  },
  {
   "cell_type": "markdown",
   "id": "9ab44cc8",
   "metadata": {},
   "source": [
    "Let's obtain the probability distribution of the walker position after measuring the second register for the 1D array state. We have to use the `operate` method. In this case, the result will be a 1D array too, with $N$ elements."
   ]
  },
  {
   "cell_type": "code",
   "execution_count": 30,
   "id": "74864942",
   "metadata": {},
   "outputs": [
    {
     "data": {
      "text/plain": [
       "array([0.1508536 , 0.35584783, 0.23376324, 0.25953534])"
      ]
     },
     "execution_count": 30,
     "metadata": {},
     "output_type": "execute_result"
    }
   ],
   "source": [
    "probability_distribution = measurement_2.operate(final_state)\n",
    "probability_distribution"
   ]
  },
  {
   "cell_type": "markdown",
   "id": "1ddd5006",
   "metadata": {},
   "source": [
    "We can also measure a batch of states, resulting in a 2D array where the first dimension indicates the node and the second dimension the quantum state."
   ]
  },
  {
   "cell_type": "code",
   "execution_count": 31,
   "id": "c8ba0206",
   "metadata": {},
   "outputs": [
    {
     "data": {
      "text/plain": [
       "array([[0.1508536 , 0.1508536 ],\n",
       "       [0.35584783, 0.35584783],\n",
       "       [0.23376324, 0.23376324],\n",
       "       [0.25953534, 0.25953534]])"
      ]
     },
     "execution_count": 31,
     "metadata": {},
     "output_type": "execute_result"
    }
   ],
   "source": [
    "probability_batch = measurement_2.operate(final_batch)\n",
    "probability_batch"
   ]
  },
  {
   "cell_type": "markdown",
   "id": "d675d3e7",
   "metadata": {},
   "source": [
    "Finally, if we pass `12` as the argument to the measurement class, it measures in both registers, returning a tuple where the first (second) element corresponds to the first (second) register."
   ]
  },
  {
   "cell_type": "code",
   "execution_count": 32,
   "id": "2b7870b7",
   "metadata": {},
   "outputs": [
    {
     "data": {
      "text/plain": [
       "(array([[0.35411909, 0.35411909],\n",
       "        [0.12550425, 0.12550425],\n",
       "        [0.38010642, 0.38010642],\n",
       "        [0.14027023, 0.14027023]]),\n",
       " array([[0.1508536 , 0.1508536 ],\n",
       "        [0.35584783, 0.35584783],\n",
       "        [0.23376324, 0.23376324],\n",
       "        [0.25953534, 0.25953534]]))"
      ]
     },
     "execution_count": 32,
     "metadata": {},
     "output_type": "execute_result"
    }
   ],
   "source": [
    "measurement_both = sw.Measurement(12)\n",
    "probability_tuple = measurement_both.operate(final_batch)\n",
    "probability_tuple"
   ]
  },
  {
   "cell_type": "markdown",
   "id": "34db461c",
   "metadata": {},
   "source": [
    "<a name='5'></a>\n",
    "## 5 - Szegedy Quantum Walk Simulator"
   ]
  },
  {
   "cell_type": "markdown",
   "id": "c233bbc3",
   "metadata": {},
   "source": [
    "With the unitary and measurement classes we can simulate Szegedy's quantum walk from any initial quantum state. However, this results in a low-level implementation, since the user must code a loop for the different time steps and manage to store the results properly. For that reason, we provide a higher-level simulator that does it for us.\n",
    "\n",
    "The function `quantum_szegedy_simulator` has the following arguments:\n",
    "\n",
    "-    unitary: unitary operator model.\n",
    "-    initial_state: Initial quantum state, or batch of states.\n",
    "-    time_steps: Number of steps of the classical walk.\n",
    "-    measure: An intenger indicating the register for measuring.\n",
    "\n",
    "This function returns directly a tensor with all the probability distributions, where the first index inidicates the time step (including $t = 0$).\n",
    "\n",
    "Let's see an example using the initial state that is created from the classical transition matrix $G$, simulating for 20 time steps with the operator $U$ and measuring the first register."
   ]
  },
  {
   "cell_type": "code",
   "execution_count": 33,
   "id": "46802708",
   "metadata": {
    "scrolled": true
   },
   "outputs": [
    {
     "data": {
      "text/plain": [
       "(21, 4)"
      ]
     },
     "execution_count": 33,
     "metadata": {},
     "output_type": "execute_result"
    }
   ],
   "source": [
    "# Use the quantum szegedy simulator to obtain the probability distributions.\n",
    "probability_distribution_times = sw.quantum_szegedy_simulator(unitary=U,initial_state=initial_state,time_steps=20,measure=1)\n",
    "probability_distribution_times.shape"
   ]
  },
  {
   "cell_type": "markdown",
   "id": "f1de18bb",
   "metadata": {},
   "source": [
    "We have 21 distributions because the first one is at time 0, and each of them has 4 elements, which are the probability for each of the nodes.\n",
    "\n",
    "We can take the probability distribution at any time. For example, for $t=1$, we must obtain the same result than the simulations of the previous section where we applied $U$ only once."
   ]
  },
  {
   "cell_type": "code",
   "execution_count": 34,
   "id": "31f93549",
   "metadata": {},
   "outputs": [
    {
     "data": {
      "text/plain": [
       "array([0.35411909, 0.12550425, 0.38010642, 0.14027023])"
      ]
     },
     "execution_count": 34,
     "metadata": {},
     "output_type": "execute_result"
    }
   ],
   "source": [
    "probability_distribution_times[1]"
   ]
  },
  {
   "cell_type": "markdown",
   "id": "38c4e08d",
   "metadata": {},
   "source": [
    "Moreover, we can simulate the quantum walk measuring both registers at the same time, using `measure=12`. The results is a tuple with the two different results."
   ]
  },
  {
   "cell_type": "code",
   "execution_count": 35,
   "id": "3fbf23a0",
   "metadata": {},
   "outputs": [],
   "source": [
    "results = sw.quantum_szegedy_simulator(unitary=U,initial_state=initial_state,time_steps=20,measure=12)\n",
    "probability_distributions_times_1 = results[0]  # Measuring register 1\n",
    "probability_distributions_times_2 = results[1]  # Measuring register 2"
   ]
  },
  {
   "cell_type": "code",
   "execution_count": 36,
   "id": "92a55ab2",
   "metadata": {},
   "outputs": [
    {
     "data": {
      "text/plain": [
       "array([0.35411909, 0.12550425, 0.38010642, 0.14027023])"
      ]
     },
     "execution_count": 36,
     "metadata": {},
     "output_type": "execute_result"
    }
   ],
   "source": [
    "probability_distributions_times_1[1]"
   ]
  },
  {
   "cell_type": "code",
   "execution_count": 37,
   "id": "0c2775b7",
   "metadata": {
    "scrolled": true
   },
   "outputs": [
    {
     "data": {
      "text/plain": [
       "array([0.1508536 , 0.35584783, 0.23376324, 0.25953534])"
      ]
     },
     "execution_count": 37,
     "metadata": {},
     "output_type": "execute_result"
    }
   ],
   "source": [
    "probability_distributions_times_2[1]"
   ]
  },
  {
   "cell_type": "markdown",
   "id": "c888c3cc",
   "metadata": {},
   "source": [
    "Finally, the same as with the unitary operator, we can simulate a batch of initial states. The result is a tensor where the first index indicates the time step, the second one the node, and the last one the concrete state."
   ]
  },
  {
   "cell_type": "code",
   "execution_count": 38,
   "id": "b1275d3d",
   "metadata": {},
   "outputs": [
    {
     "data": {
      "text/plain": [
       "(21, 4, 2)"
      ]
     },
     "execution_count": 38,
     "metadata": {},
     "output_type": "execute_result"
    }
   ],
   "source": [
    "probability_batch_times = sw.quantum_szegedy_simulator(unitary=U,initial_state=initial_batch,time_steps=20,measure=1)\n",
    "probability_batch_times.shape"
   ]
  },
  {
   "cell_type": "markdown",
   "id": "795a0ffa",
   "metadata": {},
   "source": [
    "In this case we have the 21 probability distributions, with 4 nodes, and 2 initial states. Let's take the probability distributions at $t=1$. Since both initial states are the same, the results must coincide for both columns, as before."
   ]
  },
  {
   "cell_type": "code",
   "execution_count": 39,
   "id": "8abfb108",
   "metadata": {},
   "outputs": [
    {
     "data": {
      "text/plain": [
       "array([[0.35411909, 0.35411909],\n",
       "       [0.12550425, 0.12550425],\n",
       "       [0.38010642, 0.38010642],\n",
       "       [0.14027023, 0.14027023]])"
      ]
     },
     "execution_count": 39,
     "metadata": {},
     "output_type": "execute_result"
    }
   ],
   "source": [
    "probability_batch_times[1]"
   ]
  },
  {
   "cell_type": "markdown",
   "id": "9b7632dd",
   "metadata": {},
   "source": [
    "<a name='6'></a>\n",
    "## 6 - Mixed State Simulation\n",
    "\n",
    "We can simulate Szegedy's quantum walk over a mixed state which is diagonal in a particular ortonormal set of states. In contrast to the simulation algorithm over pure states, which can be used to obtain all the complex amplitudes of the state, our simulator does not calculate the matrix elements of the density operator, but only the probabilities of measuring each of the nodes.\n",
    "\n",
    "Let us denote $\\left|b_i\\right>$ to the vectors of an ortonormal set, so that the mixed state is\n",
    "\n",
    "\\begin{equation}\\label{mixed}\n",
    "\\rho = \\sum_{i=0}^{M-1} c_i \\left|b_i\\right>\\left<b_i\\right|,\n",
    "\\end{equation}\n",
    "\n",
    "where $c_i$ are non-negative real numbers adding 1, and $M$ is the size of the set."
   ]
  },
  {
   "cell_type": "markdown",
   "id": "4752d11d",
   "metadata": {},
   "source": [
    "As an example let's simulate the quantum walk of the mixed state\n",
    "\n",
    "$$\\rho = 0.3 \\left|a\\right>\\left<a\\right| + 0.7 \\left|b\\right>\\left<b\\right|,$$\n",
    "\n",
    "with $\\left|a\\right> = \\left|0\\right>_1\\left|0\\right>_2$ and $\\left|b\\right> = \\left|0\\right>_1\\left|1\\right>_2$ being two orthonormal states. This two states are the first two vectors of the whole computational basis, so they are $(1,0,0,0...)^T$ and $(0,1,0,0...)^T$."
   ]
  },
  {
   "cell_type": "code",
   "execution_count": 40,
   "id": "12fad6d7",
   "metadata": {},
   "outputs": [
    {
     "data": {
      "text/plain": [
       "array([[1., 0.],\n",
       "       [0., 1.],\n",
       "       [0., 0.],\n",
       "       [0., 0.],\n",
       "       [0., 0.],\n",
       "       [0., 0.],\n",
       "       [0., 0.],\n",
       "       [0., 0.],\n",
       "       [0., 0.],\n",
       "       [0., 0.],\n",
       "       [0., 0.],\n",
       "       [0., 0.],\n",
       "       [0., 0.],\n",
       "       [0., 0.],\n",
       "       [0., 0.],\n",
       "       [0., 0.]])"
      ]
     },
     "execution_count": 40,
     "metadata": {},
     "output_type": "execute_result"
    }
   ],
   "source": [
    "# Create the states that form the mixed state.\n",
    "state_a = np.zeros(N**2)\n",
    "state_a[0] = 1\n",
    "state_b = np.zeros(N**2)\n",
    "state_b[1] = 1\n",
    "\n",
    "# Form a batch with the states. They must be stacked along the last dimension of the 2D array.\n",
    "basis_batch = np.c_[state_a,state_b]\n",
    "basis_batch"
   ]
  },
  {
   "cell_type": "markdown",
   "id": "6c570414",
   "metadata": {},
   "source": [
    "We need to simulate the quantum walk over this building states. For this example we will use again the operator $U$, 20 time steps, and will measure the second register."
   ]
  },
  {
   "cell_type": "code",
   "execution_count": 41,
   "id": "85ca038e",
   "metadata": {},
   "outputs": [
    {
     "data": {
      "text/plain": [
       "(21, 4, 2)"
      ]
     },
     "execution_count": 41,
     "metadata": {},
     "output_type": "execute_result"
    }
   ],
   "source": [
    "basis_simulations = sw.quantum_szegedy_simulator(U,basis_batch,20,measure=2)\n",
    "basis_simulations.shape"
   ]
  },
  {
   "cell_type": "markdown",
   "id": "aa195ae4",
   "metadata": {},
   "source": [
    "As expected, the result is a 3D tensor with 21 time steps (including $t=0$), 4 nodes and 2 states.\n",
    "\n",
    "This resulting tensor is suitable for the function `mixed_state_simulator`. This requires the simulations of the batch of states that comprise the mixed state, and the probability distribution $c_i$ that is used to form the mixed state."
   ]
  },
  {
   "cell_type": "code",
   "execution_count": 42,
   "id": "b2542c68",
   "metadata": {},
   "outputs": [
    {
     "data": {
      "text/plain": [
       "(21, 4)"
      ]
     },
     "execution_count": 42,
     "metadata": {},
     "output_type": "execute_result"
    }
   ],
   "source": [
    "# Create a vector with the weights c_i of the mixed state.\n",
    "coefficients = np.array([0.3,0.7])\n",
    "\n",
    "# Use the mixed state simulator to obtain the probability distributions after the evolution of the mixed state.\n",
    "mixed_probability_distribution = sw.mixed_state_simulator(basis_simulations=basis_simulations,coefficients=coefficients)\n",
    "mixed_probability_distribution.shape"
   ]
  },
  {
   "cell_type": "markdown",
   "id": "7af21200",
   "metadata": {},
   "source": [
    "The same than for simulating a single pure state, the result is a 2D tensor where the first index indicates the time step, and the second one the node. In this case there are 21 time steps (including $t=0$) and 4 nodes.\n",
    "\n",
    "Let's take the probability distribution at $t=6$."
   ]
  },
  {
   "cell_type": "code",
   "execution_count": 43,
   "id": "886fdbe5",
   "metadata": {},
   "outputs": [
    {
     "data": {
      "text/plain": [
       "array([0.30023955, 0.68936754, 0.00574256, 0.00465034])"
      ]
     },
     "execution_count": 43,
     "metadata": {},
     "output_type": "execute_result"
    }
   ],
   "source": [
    "mixed_probability_distribution[6]"
   ]
  },
  {
   "cell_type": "markdown",
   "id": "bb34e811",
   "metadata": {},
   "source": [
    "<a name='7'></a>\n",
    "## 7 - Example: Szegedy's Quantum Walk with Queries\n",
    "\n",
    "We end this tutorial with an example of using our simulator for a quantum search problem from [[3]](https://link.springer.com/article/10.1007/s11128-016-1427-4)."
   ]
  },
  {
   "cell_type": "markdown",
   "id": "88939189",
   "metadata": {},
   "source": [
    "In this case we have a graph with 2000 nodes. The graph is fully connected without loops, so that the diagonal elements of the transition matrix are 0 and the non-diagonal elements are $1/(N-1)$. According to the notation of the paper, the transition matrix is called $P$."
   ]
  },
  {
   "cell_type": "code",
   "execution_count": 44,
   "id": "062bd695",
   "metadata": {},
   "outputs": [],
   "source": [
    "# Create the transition matrix.\n",
    "N = 2000\n",
    "P = np.ones([N,N])*(1/(N-1))\n",
    "# Delete the diagonal elements\n",
    "for k in range(N):\n",
    "    P[k,k] = 0"
   ]
  },
  {
   "cell_type": "markdown",
   "id": "ed7acd01",
   "metadata": {},
   "source": [
    "In order to mark nodes for the search problem, the directed edges pointing from them are removed, and a self-loop is added. Thus, the column of each of these nodes is deleted, and the diagonal element is changed by $1$. Let's call $P'$ to the new matrix. In this case, $M = 7$ nodes are marked. Since all nodes are equal, it does not matter what nodes are being marked. Thus, we mark the first seven nodes.\n",
    "\n",
    "**In the paper the formulation is based on row-stochastic matrices, so that they corresponds to the transposes of the ones that we have to use in our simulator. The matrix that we create here is column stochastic directly.**"
   ]
  },
  {
   "cell_type": "code",
   "execution_count": 45,
   "id": "906d69dc",
   "metadata": {},
   "outputs": [
    {
     "data": {
      "text/plain": [
       "True"
      ]
     },
     "execution_count": 45,
     "metadata": {},
     "output_type": "execute_result"
    }
   ],
   "source": [
    "M = 7\n",
    "marked_nodes = np.arange(M)\n",
    "P_prime = P.copy()\n",
    "for node in marked_nodes:\n",
    "    P_prime[:,node] = 0\n",
    "    P_prime[node,node] = 1\n",
    "\n",
    "np.allclose(np.sum(P_prime,axis=0),np.ones([N]))  # Check that all the elements of each column add up to 1."
   ]
  },
  {
   "cell_type": "markdown",
   "id": "98cb2ba1",
   "metadata": {},
   "source": [
    "The unitary operator is\n",
    "\n",
    "$$U_{P'} = R'_BR'_A$$\n",
    "according to the original formulation of Szegedy's quantum walk. In the notation of our simulator [[1]](https://arxiv.org/abs/2307.14314) we have $R_A = R$ and $R_B = SRS$, thus, $U_{P'} = SR'SR'$.\n",
    "\n",
    "The reflection operator $R'$ is created using $P'$."
   ]
  },
  {
   "cell_type": "code",
   "execution_count": 46,
   "id": "82d150ef",
   "metadata": {},
   "outputs": [
    {
     "name": "stdout",
     "output_type": "stream",
     "text": [
      "SRSR\n",
      "Custom unitary: prime\n",
      " 1 - Reflection P'\n",
      " 2 - Swap\n",
      " 3 - Reflection P'\n",
      " 4 - Swap\n"
     ]
    }
   ],
   "source": [
    "R_prime = sw.Reflection(P_prime,name='P\\'')\n",
    "S = sw.Swap()\n",
    "U_P_prime = sw.Unitary([R_prime,S,R_prime,S],name='prime')\n",
    "print(U_P_prime)\n",
    "U_P_prime.info()"
   ]
  },
  {
   "cell_type": "markdown",
   "id": "24f27272",
   "metadata": {},
   "source": [
    "The initial state is the one created with the original matrix $P$."
   ]
  },
  {
   "cell_type": "code",
   "execution_count": 47,
   "id": "a4dc7f70",
   "metadata": {},
   "outputs": [],
   "source": [
    "initial_state = sw.create_initial_state(P)"
   ]
  },
  {
   "cell_type": "markdown",
   "id": "25aae235",
   "metadata": {},
   "source": [
    "The quantum walk is performed during 100 steps and the first register is measured."
   ]
  },
  {
   "cell_type": "code",
   "execution_count": 48,
   "id": "adbd94d4",
   "metadata": {},
   "outputs": [],
   "source": [
    "evolution_prime = sw.quantum_szegedy_simulator(U_P_prime,initial_state,time_steps=100,measure=1)"
   ]
  },
  {
   "cell_type": "markdown",
   "id": "577ff297",
   "metadata": {},
   "source": [
    "The probability of measuring a marked node is obtained summing the probability of the first seven nodes."
   ]
  },
  {
   "cell_type": "code",
   "execution_count": 49,
   "id": "f3aab588",
   "metadata": {
    "scrolled": true
   },
   "outputs": [
    {
     "data": {
      "image/png": "[encoded data removed]",
      "text/plain": [
       "<Figure size 640x480 with 1 Axes>"
      ]
     },
     "metadata": {},
     "output_type": "display_data"
    }
   ],
   "source": [
    "probability_marked_prime = np.sum(evolution_prime[:,marked_nodes],axis=-1)\n",
    "\n",
    "plt.plot(probability_marked_prime,label='$U_{P\\'}$')\n",
    "plt.legend(loc=1)\n",
    "plt.xlabel('Time')\n",
    "plt.ylabel('Probability')\n",
    "plt.xlim([0,100])\n",
    "plt.ylim([0,1])\n",
    "plt.grid()"
   ]
  },
  {
   "cell_type": "markdown",
   "id": "03325ea2",
   "metadata": {},
   "source": [
    "Other algorithm of quantum search proposed in the [[3]](https://link.springer.com/article/10.1007/s11128-016-1427-4) uses the operator\n",
    "\n",
    "$$U_M = R_BR_AR_{M_1},$$\n",
    "where $R_{M_1}$ is an oracle in the first register, so that in our notation from [[1]](https://arxiv.org/abs/2307.14314) is\n",
    "\n",
    "$$U_M = SRSRQ_1.$$\n",
    "\n",
    "where $R$ is constructed using the original matrix $P$, and $Q_1$ is an oracle in the first register.\n",
    "\n",
    "The initial state is the same."
   ]
  },
  {
   "cell_type": "code",
   "execution_count": 50,
   "id": "532aeab4",
   "metadata": {},
   "outputs": [
    {
     "name": "stdout",
     "output_type": "stream",
     "text": [
      "SRSRQ₁\n",
      "Custom unitary: oracle\n",
      " 1 - Oracle: Register 1: nodes [0 1 2 3 4 5 6]\n",
      " 2 - Reflection P\n",
      " 3 - Swap\n",
      " 4 - Reflection P\n",
      " 5 - Swap\n"
     ]
    }
   ],
   "source": [
    "Q_1 = sw.Oracle(register=1,marked_nodes=marked_nodes)\n",
    "R = sw.Reflection(P,name='P')\n",
    "U_M = sw.Unitary([Q_1,R,S,R,S],name='oracle')\n",
    "print(U_M)\n",
    "U_M.info()"
   ]
  },
  {
   "cell_type": "code",
   "execution_count": 51,
   "id": "9049cf99",
   "metadata": {},
   "outputs": [],
   "source": [
    "evolution_oracle = sw.quantum_szegedy_simulator(U_M,initial_state,time_steps=100,measure=1)"
   ]
  },
  {
   "cell_type": "code",
   "execution_count": 52,
   "id": "897d2228",
   "metadata": {},
   "outputs": [
    {
     "data": {
      "image/png": "[encoded data removed]",
      "text/plain": [
       "<Figure size 640x480 with 1 Axes>"
      ]
     },
     "metadata": {},
     "output_type": "display_data"
    }
   ],
   "source": [
    "probability_marked_oracle = np.sum(evolution_oracle[:,marked_nodes],axis=-1)\n",
    "\n",
    "plt.plot(probability_marked_prime,label='$U_{P\\'}$')\n",
    "plt.plot(probability_marked_oracle,label='$U_{M}$')\n",
    "plt.legend(loc=1)\n",
    "plt.xlabel('Time')\n",
    "plt.ylabel('Probability')\n",
    "plt.xlim([0,100])\n",
    "plt.ylim([0,1])\n",
    "plt.grid()"
   ]
  },
  {
   "cell_type": "markdown",
   "id": "cb24dd79",
   "metadata": {},
   "source": [
    "<a name='8'></a>\n",
    "## 8 - References\n",
    "\n",
    "- [1] **[S. A. Ortega and M. A. Martin-Delgado. SQUWALS: A Szegedy QUantum WALks Simulator. arXiv:2307.14314.](https://arxiv.org/abs/2307.14314)**\n",
    "- [2] **[M. Szegedy. Quantum speed-up of Markov chain based algorithms. 45th Annual IEEE Symposium on Foundations of Computer Science, 32–41, 2004.](https://ieeexplore.ieee.org/document/1366222)**\n",
    "- [3] **[R. A. Santos. Szegedy’s quantum walk with queries. Quantum Information Processing, 15:4461–4475, 2016.](https://link.springer.com/article/10.1007/s11128-016-1427-4)**"
   ]
  }
 ],
 "metadata": {
  "kernelspec": {
   "display_name": "Python 3 (ipykernel)",
   "language": "python",
   "name": "python3"
  },
  "language_info": {
   "codemirror_mode": {
    "name": "ipython",
    "version": 3
   },
   "file_extension": ".py",
   "mimetype": "text/x-python",
   "name": "python",
   "nbconvert_exporter": "python",
   "pygments_lexer": "ipython3",
   "version": "3.11.3"
  }
 },
 "nbformat": 4,
 "nbformat_minor": 5
}
